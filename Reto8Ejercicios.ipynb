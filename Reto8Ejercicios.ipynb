{
 "cells": [
  {
   "cell_type": "code",
   "execution_count": null,
   "metadata": {},
   "outputs": [],
   "source": [
    "range(1, 101) #Establezco el rango\n",
    "for i in range (1, 101): #Se establece que la variable estará en este rango\n",
    "    print (i,i**2, sep=\":\") #Se arrojará el listado de los números y su cuadrado"
   ]
  },
  {
   "cell_type": "code",
   "execution_count": null,
   "metadata": {},
   "outputs": [],
   "source": [
    "range (1,1000,2) #Se establece el rango para que vaya de 2 en 2 desde 1 hasta 999\n",
    "for i in range(1,1000,2): #Se establece que la variable irá en ese rango\n",
    "    print (i) #Se imprime el listado de números\n",
    "\n",
    "range (2,1001,2)#Se establece el rango para que vaya de 2 en 2 de 2 hasta 1000\n",
    "for i in range (2,1001,2):#Se establece que la variable está en este rango\n",
    "    print(i)#Se imprime el listado de números"
   ]
  },
  {
   "cell_type": "code",
   "execution_count": null,
   "metadata": {},
   "outputs": [],
   "source": [
    "n=int(input(\"Ingresa un numero natural mayor o igual a 2:\")) #Se define la variable\n",
    "if n%2==0:#Si el residuo de la variable es igual a cero\n",
    "    n=n #La variable va a quedar igual\n",
    "else: #si no pasa lo anterior\n",
    " n=n-1 #se le resta 1 a la variable\n",
    "\n",
    "for i in range(n,1,-2): #Se determina el rango donde va a ser de la variable hasta 2, restando 2\n",
    "   print(i) #Se imprime el listado"
   ]
  }
 ],
 "metadata": {
  "language_info": {
   "name": "python"
  },
  "orig_nbformat": 4
 },
 "nbformat": 4,
 "nbformat_minor": 2
}
